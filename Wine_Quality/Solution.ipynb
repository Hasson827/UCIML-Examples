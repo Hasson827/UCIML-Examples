{
 "cells": [
  {
   "cell_type": "markdown",
   "metadata": {},
   "source": [
    "# 葡萄酒质量\n",
    "\n",
    "`Dataset Characteristics  数据集特征:`Multivariate  多元变量\n",
    "\n",
    "`Subject Area  主题领域:`Business  商业\n",
    "\n",
    "`Associated Tasks  相关任务:`Classification, Regression 分类，回归\n",
    "\n",
    "`Feature Type  功能类型:`Real  实数\n",
    "\n",
    "`# Instances  样本数量:`4898\n",
    "\n",
    "`# Features  特征数量:`11\n",
    "\n",
    "`Has Missing Values?  是否有缺失值？:`No  没有"
   ]
  },
  {
   "cell_type": "markdown",
   "metadata": {},
   "source": [
    "## 变量表\n",
    "| Variable Name         | Role    | Type        | Description | Units | Missing Values |\n",
    "|----------------------|--------|------------|-------------|-------|---------------|\n",
    "| fixed_acidity       | Feature | Continuous |             |       | no            |\n",
    "| volatile_acidity    | Feature | Continuous |             |       | no            |\n",
    "| citric_acid        | Feature | Continuous |             |       | no            |\n",
    "| residual_sugar     | Feature | Continuous |             |       | no            |\n",
    "| chlorides         | Feature | Continuous |             |       | no            |\n",
    "| free_sulfur_dioxide | Feature | Continuous |             |       | no            |\n",
    "| total_sulfur_dioxide | Feature | Continuous |             |       | no            |\n",
    "| density          | Feature | Continuous |             |       | no            |\n",
    "| pH               | Feature | Continuous |             |       | no            |\n",
    "| sulphates        | Feature | Continuous |             |       | no            |"
   ]
  },
  {
   "cell_type": "markdown",
   "metadata": {},
   "source": [
    "\n",
    "| 变量名称            | 角色  | 类型  | 描述  | 单位 | 缺失值 |\n",
    "|-------------------|------|------|------|------|------|\n",
    "| 固定酸度         | 特征  | 持续  |      |      | 没有 |\n",
    "| 挥发酸          | 特征  | 持续  |      |      | 没有 |\n",
    "| 柠檬酸          | 特征  | 持续  |      |      | 没有 |\n",
    "| 残留糖          | 特征  | 持续  |      |      | 没有 |\n",
    "| 氯化物          | 特征  | 持续  |      |      | 没有 |\n",
    "| 游离二氧化硫     | 特征  | 持续  |      |      | 没有 |\n",
    "| 总二氧化硫       | 特征  | 持续  |      |      | 没有 |\n",
    "| 密度            | 特征  | 持续  |      |      | 没有 |\n",
    "| pH值           | 特征  | 持续  |      |      | 没有 |\n",
    "| 硫酸盐          | 特征  | 持续  |      |      | 没有 |\n"
   ]
  },
  {
   "cell_type": "markdown",
   "id": "ddf9ec90",
   "metadata": {},
   "source": [
    "### 📌 导入必要的库\n",
    "本节导入了 `pandas`、`numpy`、`pygwalker`、`torch` 和 `sklearn` 相关库，分别用于：\n",
    "- **数据处理**（pandas、numpy）\n",
    "- **数据可视化**（pygwalker）\n",
    "- **深度学习**（torch）\n",
    "- **模型评估**（sklearn）\n",
    "\n",
    "此外，还检测了当前是否可用 `CUDA` 进行 GPU 计算。\n"
   ]
  },
  {
   "cell_type": "code",
   "execution_count": 1,
   "metadata": {},
   "outputs": [
    {
     "name": "stderr",
     "output_type": "stream",
     "text": [
      "/Users/hongshuo/Library/Python/3.9/lib/python/site-packages/urllib3/__init__.py:35: NotOpenSSLWarning: urllib3 v2 only supports OpenSSL 1.1.1+, currently the 'ssl' module is compiled with 'LibreSSL 2.8.3'. See: https://github.com/urllib3/urllib3/issues/3020\n",
      "  warnings.warn(\n"
     ]
    },
    {
     "name": "stdout",
     "output_type": "stream",
     "text": [
      "2.6.0\n",
      "mps\n"
     ]
    }
   ],
   "source": [
    "import pandas as pd\n",
    "import numpy as np\n",
    "import pygwalker as pyg\n",
    "import torch\n",
    "from torch import nn\n",
    "from sklearn.metrics import accuracy_score\n",
    "from sklearn.preprocessing import StandardScaler\n",
    "from imblearn.over_sampling import SMOTE\n",
    "from imblearn.under_sampling import RandomUnderSampler\n",
    "\n",
    "device = torch.device('cuda' if torch.cuda.is_available()\n",
    "                      else 'mps' if torch.mps.is_available()\n",
    "                      else 'cpu')\n",
    "print(torch.__version__)\n",
    "print(device)"
   ]
  },
  {
   "cell_type": "markdown",
   "id": "7005f353",
   "metadata": {},
   "source": [
    "### 📌 读取数据集\n",
    "- 这里分别加载了**白葡萄酒**和**红葡萄酒**的质量数据集。\n",
    "- 由于数据以分号 (`;`) 分隔，因此 `sep=';'` 需要显式指定。\n",
    "- 读取后，`quality` 列作为目标变量（标签 `y`），其余列作为特征（`X`）。\n"
   ]
  },
  {
   "cell_type": "code",
   "execution_count": 2,
   "metadata": {},
   "outputs": [
    {
     "name": "stdout",
     "output_type": "stream",
     "text": [
      "White wine columns: Index(['fixed acidity', 'volatile acidity', 'citric acid', 'residual sugar',\n",
      "       'chlorides', 'free sulfur dioxide', 'total sulfur dioxide', 'density',\n",
      "       'pH', 'sulphates', 'alcohol', 'quality'],\n",
      "      dtype='object')\n",
      "Red wine columns: Index(['fixed acidity', 'volatile acidity', 'citric acid', 'residual sugar',\n",
      "       'chlorides', 'free sulfur dioxide', 'total sulfur dioxide', 'density',\n",
      "       'pH', 'sulphates', 'alcohol', 'quality'],\n",
      "      dtype='object')\n"
     ]
    },
    {
     "data": {
      "text/plain": [
       "((4898, 11), (4898,), (1599, 11), (1599,))"
      ]
     },
     "execution_count": 2,
     "metadata": {},
     "output_type": "execute_result"
    }
   ],
   "source": [
    "# Read the CSV files with semicolon separator\n",
    "white_wine = pd.read_csv(\"data/winequality-white.csv\", sep=';')\n",
    "red_wine = pd.read_csv(\"data/winequality-red.csv\", sep=';')\n",
    "\n",
    "print(\"White wine columns:\", white_wine.columns)\n",
    "print(\"Red wine columns:\", red_wine.columns)\n",
    "\n",
    "# Assuming the 'quality' column exists, proceed with the original code\n",
    "X_white = white_wine.drop(\"quality\", axis=1)\n",
    "y_white = white_wine[\"quality\"]\n",
    "X_red = red_wine.drop(\"quality\", axis=1)\n",
    "y_red = red_wine[\"quality\"]\n",
    "\n",
    "X_white.shape, y_white.shape, X_red.shape, y_red.shape"
   ]
  },
  {
   "cell_type": "code",
   "execution_count": 3,
   "metadata": {},
   "outputs": [
    {
     "data": {
      "text/plain": [
       "(array([[ 7.  ,  0.27,  0.36, ...,  3.  ,  0.45,  8.8 ],\n",
       "        [ 6.3 ,  0.3 ,  0.34, ...,  3.3 ,  0.49,  9.5 ],\n",
       "        [ 8.1 ,  0.28,  0.4 , ...,  3.26,  0.44, 10.1 ],\n",
       "        ...,\n",
       "        [ 6.5 ,  0.24,  0.19, ...,  2.99,  0.46,  9.4 ],\n",
       "        [ 5.5 ,  0.29,  0.3 , ...,  3.34,  0.38, 12.8 ],\n",
       "        [ 6.  ,  0.21,  0.38, ...,  3.26,  0.32, 11.8 ]], dtype=float32),\n",
       " array([6., 6., 6., ..., 6., 7., 6.], dtype=float32),\n",
       " array([[ 7.4  ,  0.7  ,  0.   , ...,  3.51 ,  0.56 ,  9.4  ],\n",
       "        [ 7.8  ,  0.88 ,  0.   , ...,  3.2  ,  0.68 ,  9.8  ],\n",
       "        [ 7.8  ,  0.76 ,  0.04 , ...,  3.26 ,  0.65 ,  9.8  ],\n",
       "        ...,\n",
       "        [ 6.3  ,  0.51 ,  0.13 , ...,  3.42 ,  0.75 , 11.   ],\n",
       "        [ 5.9  ,  0.645,  0.12 , ...,  3.57 ,  0.71 , 10.2  ],\n",
       "        [ 6.   ,  0.31 ,  0.47 , ...,  3.39 ,  0.66 , 11.   ]],\n",
       "       dtype=float32),\n",
       " array([5., 5., 5., ..., 6., 5., 6.], dtype=float32))"
      ]
     },
     "execution_count": 3,
     "metadata": {},
     "output_type": "execute_result"
    }
   ],
   "source": [
    "X_white = np.array(X_white).astype(np.float32)\n",
    "y_white = np.array(y_white).astype(np.float32)\n",
    "X_red = np.array(X_red).astype(np.float32)\n",
    "y_red = np.array(y_red).astype(np.float32)\n",
    "X_white,y_white,X_red,y_red"
   ]
  },
  {
   "cell_type": "markdown",
   "id": "8d178d40",
   "metadata": {},
   "source": [
    "### 📌 处理类别不平衡（SMOTE&RandomUnderSampler）\n",
    "- **过采样（Over-sampling）**：当某些类别样本数量较少时，我们使用 `SMOTE` 生成新的合成样本，以平衡数据集。\n",
    "- 这样可以防止模型偏向于高频类别，提高分类性能。\n"
   ]
  },
  {
   "cell_type": "code",
   "execution_count": 4,
   "metadata": {},
   "outputs": [
    {
     "name": "stderr",
     "output_type": "stream",
     "text": [
      "/Users/hongshuo/Library/Python/3.9/lib/python/site-packages/sklearn/base.py:474: FutureWarning: `BaseEstimator._validate_data` is deprecated in 1.6 and will be removed in 1.7. Use `sklearn.utils.validation.validate_data` instead. This function becomes public and is part of the scikit-learn developer API.\n",
      "  warnings.warn(\n",
      "/Users/hongshuo/Library/Python/3.9/lib/python/site-packages/sklearn/base.py:474: FutureWarning: `BaseEstimator._validate_data` is deprecated in 1.6 and will be removed in 1.7. Use `sklearn.utils.validation.validate_data` instead. This function becomes public and is part of the scikit-learn developer API.\n",
      "  warnings.warn(\n"
     ]
    }
   ],
   "source": [
    "smote = SMOTE(random_state=42, k_neighbors=3)\n",
    "X_white, y_white = smote.fit_resample(X_white, y_white)\n",
    "X_red, y_red = smote.fit_resample(X_red, y_red)"
   ]
  },
  {
   "cell_type": "markdown",
   "metadata": {},
   "source": [
    "- **下采样(Under-sampling):** 当某些类别样本数量过多时，我们使用RandomUnderSampler随机删除一些过多样本，以平衡数据集"
   ]
  },
  {
   "cell_type": "code",
   "execution_count": 5,
   "metadata": {},
   "outputs": [
    {
     "name": "stderr",
     "output_type": "stream",
     "text": [
      "/Users/hongshuo/Library/Python/3.9/lib/python/site-packages/sklearn/utils/deprecation.py:151: FutureWarning: 'force_all_finite' was renamed to 'ensure_all_finite' in 1.6 and will be removed in 1.8.\n",
      "  warnings.warn(\n",
      "/Users/hongshuo/Library/Python/3.9/lib/python/site-packages/sklearn/base.py:484: FutureWarning: `BaseEstimator._check_n_features` is deprecated in 1.6 and will be removed in 1.7. Use `sklearn.utils.validation._check_n_features` instead.\n",
      "  warnings.warn(\n",
      "/Users/hongshuo/Library/Python/3.9/lib/python/site-packages/sklearn/base.py:493: FutureWarning: `BaseEstimator._check_feature_names` is deprecated in 1.6 and will be removed in 1.7. Use `sklearn.utils.validation._check_feature_names` instead.\n",
      "  warnings.warn(\n",
      "/Users/hongshuo/Library/Python/3.9/lib/python/site-packages/sklearn/utils/deprecation.py:151: FutureWarning: 'force_all_finite' was renamed to 'ensure_all_finite' in 1.6 and will be removed in 1.8.\n",
      "  warnings.warn(\n",
      "/Users/hongshuo/Library/Python/3.9/lib/python/site-packages/sklearn/base.py:484: FutureWarning: `BaseEstimator._check_n_features` is deprecated in 1.6 and will be removed in 1.7. Use `sklearn.utils.validation._check_n_features` instead.\n",
      "  warnings.warn(\n",
      "/Users/hongshuo/Library/Python/3.9/lib/python/site-packages/sklearn/base.py:493: FutureWarning: `BaseEstimator._check_feature_names` is deprecated in 1.6 and will be removed in 1.7. Use `sklearn.utils.validation._check_feature_names` instead.\n",
      "  warnings.warn(\n"
     ]
    }
   ],
   "source": [
    "rus = RandomUnderSampler(random_state=42)\n",
    "X_white, y_white = rus.fit_resample(X_white, y_white)\n",
    "X_red, y_red = rus.fit_resample(X_red, y_red)"
   ]
  },
  {
   "cell_type": "markdown",
   "id": "66ecca70",
   "metadata": {},
   "source": [
    "### 📌 归一化数据\n",
    "- 由于不同特征的数值范围不同，我们使用 `StandardScaler` 进行标准化，使所有特征均值为 `0`，标准差为 `1`。\n",
    "- 这有助于梯度下降更稳定，提高模型训练效果。\n"
   ]
  },
  {
   "cell_type": "code",
   "execution_count": 6,
   "metadata": {},
   "outputs": [],
   "source": [
    "scaler = StandardScaler()\n",
    "\n",
    "# 对特征进行归一化 (只对 X 进行)\n",
    "X_white = scaler.fit_transform(X_white)\n",
    "X_red = scaler.fit_transform(X_red)"
   ]
  },
  {
   "cell_type": "markdown",
   "id": "454df665",
   "metadata": {},
   "source": [
    "### 📌 将数据转换为 PyTorch 张量\n",
    "- PyTorch 训练时需要 `Tensor` 格式，因此将 NumPy 数组转换为 `torch.tensor`。\n",
    "- `dtype=torch.float` 确保数据类型正确，`to(device)` 允许数据在 CPU/GPU 间切换。\n"
   ]
  },
  {
   "cell_type": "code",
   "execution_count": 7,
   "metadata": {},
   "outputs": [
    {
     "data": {
      "text/plain": [
       "(tensor([[ 1.5137, -0.3900, -1.2357,  ..., -1.3194,  0.1758, -0.8137],\n",
       "         [-1.3460, -0.5811,  0.9931,  ...,  2.2624, -0.4879,  0.6576],\n",
       "         [ 2.1492,  2.7623,  0.4117,  ...,  0.1555, -0.9620, -1.8204],\n",
       "         ...,\n",
       "         [ 0.8850,  0.1719,  0.5117,  ...,  0.2496, -0.7179,  0.6173],\n",
       "         [ 0.1482, -0.4606,  1.0124,  ...,  0.9053, -0.3727,  1.4725],\n",
       "         [ 0.0398, -0.3954,  1.4424,  ...,  1.1210, -0.5669,  1.5783]],\n",
       "        device='mps:0'),\n",
       " tensor([3, 3, 3,  ..., 9, 9, 9], device='mps:0'),\n",
       " tensor([[ 1.9706, -0.0062,  1.9173,  ..., -0.5073, -0.5475, -1.4871],\n",
       "         [ 1.2443,  0.1155,  1.0869,  ..., -1.0883, -0.1766, -2.0065],\n",
       "         [-0.5713,  2.4480, -1.3064,  ...,  1.9456, -0.7330, -0.0155],\n",
       "         ...,\n",
       "         [-0.0713, -0.3228,  0.5667,  ..., -0.8125,  0.3295,  1.9209],\n",
       "         [ 0.6117, -1.0809,  1.3846,  ..., -1.0944,  1.4020,  0.9546],\n",
       "         [-1.9425, -0.6652, -0.1133,  ...,  2.3334,  0.5111,  2.6984]],\n",
       "        device='mps:0'),\n",
       " tensor([3, 3, 3,  ..., 8, 8, 8], device='mps:0'))"
      ]
     },
     "execution_count": 7,
     "metadata": {},
     "output_type": "execute_result"
    }
   ],
   "source": [
    "X_white = torch.tensor(X_white,dtype=torch.float).to(device)\n",
    "y_white = torch.tensor(y_white,dtype=torch.long).to(device)\n",
    "X_red = torch.tensor(X_red,dtype=torch.float).to(device)\n",
    "y_red = torch.tensor(y_red,dtype=torch.long).to(device)\n",
    "X_white,y_white,X_red,y_red"
   ]
  },
  {
   "cell_type": "markdown",
   "id": "cf241c82",
   "metadata": {},
   "source": [
    "### 📌 设定损失函数（带权重）\n",
    "- 由于类别不平衡，使用 `CrossEntropyLoss` 并为罕见类别分配更高权重，以增强模型对少数类的关注。\n"
   ]
  },
  {
   "cell_type": "code",
   "execution_count": 8,
   "metadata": {},
   "outputs": [
    {
     "name": "stdout",
     "output_type": "stream",
     "text": [
      "tensor([2198, 2198, 2198, 2198, 2198, 2198, 2198], device='mps:0')\n",
      "tensor([681, 681, 681, 681, 681, 681], device='mps:0')\n"
     ]
    }
   ],
   "source": [
    "unique_classes_white, counts = torch.unique(y_white, return_counts=True)\n",
    "print(counts)\n",
    "class_weights_white = 1.0 / counts.float()  # 逆频率权重\n",
    "class_weights_white = class_weights_white / class_weights_white.sum()  # 归一化\n",
    "\n",
    "# 转换为 tensor 并移动到 GPU/CPU\n",
    "class_weights_white = class_weights_white.to(device)\n",
    "\n",
    "\n",
    "unique_classes_red, counts = torch.unique(y_red, return_counts=True)\n",
    "print(counts)\n",
    "class_weights_red = 1.0 / counts.float()  # 逆频率权重\n",
    "class_weights_red = class_weights_red / class_weights_red.sum()  # 归一化\n",
    "\n",
    "# 转换为 tensor 并移动到 GPU/CPU\n",
    "class_weights_red = class_weights_red.to(device)"
   ]
  },
  {
   "cell_type": "markdown",
   "metadata": {},
   "source": [
    "通过打印count我们可以得知white的评分总数共有7种，而red的评分总数只有6种，因此在构建神经网络的时候要有不同的输出"
   ]
  },
  {
   "cell_type": "markdown",
   "id": "b5a891ca",
   "metadata": {},
   "source": [
    "### 📌 定义网络\n",
    "- 由于两种酒的评价种数不同，我们可以构建两种神经网络（直接def一个，然后把输出个数作为输入也可以）\n",
    "- 由于类别不平衡，使用 `CrossEntropyLoss` 并为罕见类别分配更高权重，以增强模型对少数类的关注。\n"
   ]
  },
  {
   "cell_type": "code",
   "execution_count": 9,
   "metadata": {},
   "outputs": [],
   "source": [
    "class WineEvaluator_white(nn.Module):\n",
    "    def __init__(self):\n",
    "        super().__init__()\n",
    "        self.fc1 = nn.Linear(11,20)\n",
    "        self.fc2 = nn.Linear(20,7)\n",
    "        self.relu = nn.ReLU()\n",
    "\n",
    "    def forward(self,x):\n",
    "        x = self.relu(self.fc1(x))\n",
    "        x = self.fc2(x)\n",
    "        return x\n",
    "net_white = WineEvaluator_white().to(device)\n",
    "loss_fn_white = nn.CrossEntropyLoss(weight=class_weights_white)\n",
    "optimizer_white = torch.optim.Adam(params=net_white.parameters(),lr=0.1)"
   ]
  },
  {
   "cell_type": "code",
   "execution_count": 10,
   "metadata": {},
   "outputs": [],
   "source": [
    "class WineEvaluator_red(nn.Module):\n",
    "    def __init__(self):\n",
    "        super().__init__()\n",
    "        self.fc1 = nn.Linear(11,20)\n",
    "        self.fc2 = nn.Linear(20,6)\n",
    "        self.relu = nn.ReLU()\n",
    "\n",
    "    def forward(self,x):\n",
    "        x = self.relu(self.fc1(x))\n",
    "        x = self.fc2(x)\n",
    "        return x\n",
    "net_red = WineEvaluator_red().to(device)\n",
    "loss_fn_red = nn.CrossEntropyLoss(weight=class_weights_red)\n",
    "optimizer_red = torch.optim.Adam(params=net_red.parameters(),lr=0.1)"
   ]
  },
  {
   "cell_type": "markdown",
   "metadata": {},
   "source": [
    "### 📌 训练循环\n",
    "- 注意此处我直接将两个网络放在一个循环里面进行训练了"
   ]
  },
  {
   "cell_type": "code",
   "execution_count": 11,
   "metadata": {},
   "outputs": [
    {
     "name": "stdout",
     "output_type": "stream",
     "text": [
      "Epoch:0  Loss of White Wine:1.980773687362671   Accuracy of White Wine:0.05245027947484726\n",
      "Epoch:0  Loss of Red Wine:1.7455247640609741   Accuracy of Red Wine:0.0763582966226138\n",
      "Epoch:100  Loss of White Wine:0.5491862893104553   Accuracy of White Wine:0.43845053945144935\n",
      "Epoch:100  Loss of Red Wine:0.1352078765630722   Accuracy of Red Wine:0.47626040137053355\n",
      "Epoch:200  Loss of White Wine:0.5183589458465576   Accuracy of White Wine:0.4445599896009359\n",
      "Epoch:200  Loss of Red Wine:0.07343588769435883   Accuracy of Red Wine:0.4887420460107685\n",
      "Epoch:300  Loss of White Wine:0.5179369449615479   Accuracy of White Wine:0.4425451709346159\n",
      "Epoch:300  Loss of Red Wine:0.06084321066737175   Accuracy of Red Wine:0.49045521292217326\n",
      "Epoch:400  Loss of White Wine:0.49293985962867737   Accuracy of White Wine:0.44728974392304693\n",
      "Epoch:400  Loss of Red Wine:0.03377864137291908   Accuracy of Red Wine:0.49632892804698975\n",
      "Epoch:500  Loss of White Wine:0.5385504364967346   Accuracy of White Wine:0.434095931366177\n",
      "Epoch:500  Loss of Red Wine:0.02441358007490635   Accuracy of Red Wine:0.49730788056779246\n",
      "Epoch:600  Loss of White Wine:0.4921194612979889   Accuracy of White Wine:0.4441700246977772\n",
      "Epoch:600  Loss of Red Wine:0.018323399126529694   Accuracy of Red Wine:0.4982868330885952\n",
      "Epoch:700  Loss of White Wine:0.4821736514568329   Accuracy of White Wine:0.44988950994410504\n",
      "Epoch:700  Loss of Red Wine:0.013813985511660576   Accuracy of Red Wine:0.49951052373959864\n",
      "Epoch:800  Loss of White Wine:0.48596251010894775   Accuracy of White Wine:0.44878460938515535\n",
      "Epoch:800  Loss of Red Wine:0.010160551406443119   Accuracy of Red Wine:0.4997552618697993\n",
      "Epoch:900  Loss of White Wine:0.4782244563102722   Accuracy of White Wine:0.4517093461588457\n",
      "Epoch:900  Loss of Red Wine:0.0077333003282547   Accuracy of Red Wine:0.5\n"
     ]
    }
   ],
   "source": [
    "epochs = 1000\n",
    "for epoch in range(epochs):\n",
    "\n",
    "    net_white.train()\n",
    "    net_red.train()\n",
    "\n",
    "    y_pred_logit_white = net_white(X_white)\n",
    "    y_pred_logit_red = net_red(X_red)\n",
    "    y_pred_prob_white = torch.softmax(y_pred_logit_white,dim=1)\n",
    "    y_pred_prob_red = torch.softmax(y_pred_logit_red,dim=1)\n",
    "    y_pred_label_white = torch.argmax(y_pred_prob_white,dim=1)\n",
    "    y_pred_label_red = torch.argmax(y_pred_prob_red,dim=1)\n",
    "\n",
    "    loss_white = loss_fn_white(y_pred_logit_white,y_white)\n",
    "    loss_red = loss_fn_red(y_pred_logit_red,y_red)\n",
    "\n",
    "    optimizer_white.zero_grad()\n",
    "    optimizer_red.zero_grad()\n",
    "\n",
    "    loss_red.backward()\n",
    "    loss_white.backward()\n",
    "\n",
    "    optimizer_red.step()\n",
    "    optimizer_white.step()\n",
    "\n",
    "    net_white.eval()\n",
    "    net_red.eval()\n",
    "\n",
    "    with torch.inference_mode():\n",
    "        val_accuracy_white = accuracy_score(y_white.cpu().numpy(), y_pred_label_white.cpu().numpy())\n",
    "        val_accuracy_red = accuracy_score(y_red.cpu().numpy(),y_pred_label_red.cpu().numpy())\n",
    "    if epoch%100==0:\n",
    "        #print(y_pred_logit_red)\n",
    "        #print(y_pred_prob_red)\n",
    "        #print(y_pred_label_red)\n",
    "        #print(y_pred_label_red.shape)\n",
    "        print(f\"Epoch:{epoch}  Loss of White Wine:{loss_white.item()}   Accuracy of White Wine:{val_accuracy_white}\")\n",
    "        print(f\"Epoch:{epoch}  Loss of Red Wine:{loss_red.item()}   Accuracy of Red Wine:{val_accuracy_red}\")"
   ]
  },
  {
   "cell_type": "markdown",
   "metadata": {},
   "source": [
    "准确率尚可，达到了70.8%和80%"
   ]
  }
 ],
 "metadata": {
  "kernelspec": {
   "display_name": "Python 3",
   "language": "python",
   "name": "python3"
  },
  "language_info": {
   "codemirror_mode": {
    "name": "ipython",
    "version": 3
   },
   "file_extension": ".py",
   "mimetype": "text/x-python",
   "name": "python",
   "nbconvert_exporter": "python",
   "pygments_lexer": "ipython3",
   "version": "3.9.6"
  }
 },
 "nbformat": 4,
 "nbformat_minor": 2
}
