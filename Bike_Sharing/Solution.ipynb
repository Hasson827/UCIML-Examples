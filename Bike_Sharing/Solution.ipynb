{
 "cells": [
  {
   "cell_type": "markdown",
   "metadata": {},
   "source": [
    "# 共享单车\n",
    "`Dataset Characteristics  数据集特征:`\n",
    "Multivariate  多元变量\n",
    "\n",
    "`Subject Area  主题领域:`\n",
    "Social Science  社会科学\n",
    "\n",
    "`Associated Tasks  相关任务:`\n",
    "Regression  回归\n",
    "\n",
    "`Feature Type  特征类型:`\n",
    "Integer, Real  整数，实数\n",
    "\n",
    "`# Instances  样本数量:`\n",
    "17389\n",
    "\n",
    "`# Features  特征数量:`\n",
    "13"
   ]
  },
  {
   "cell_type": "markdown",
   "metadata": {},
   "source": [
    "## 变量表\n",
    "| Variable Name | Role    | Type      | Description                                                                 | Units | Missing Values |\n",
    "|---------------|---------|-----------|-----------------------------------------------------------------------------|-------|----------------|\n",
    "| instant       | ID      | Integer   | record index                                                               |       | no             |\n",
    "| dteday        | Feature | Date      | date                                                                       |       | no             |\n",
    "| season        | Feature | Categorical | 1:winter, 2:spring, 3:summer, 4:fall                                    |       | no             |\n",
    "| yr            | Feature | Categorical | year (0: 2011, 1: 2012)                                                   |       | no             |\n",
    "| mnth          | Feature | Categorical | month (1 to 12)                                                           |       | no             |\n",
    "| hr            | Feature | Categorical | hour (0 to 23)                                                            |       | no             |\n",
    "| holiday       | Feature | Binary     | whether day is holiday or not (extracted from http://dchr.dc.gov/page/holiday-schedule) |       | no             |\n",
    "| weekday       | Feature | Categorical | day of the week                                                           |       | no             |\n",
    "| workingday    | Feature | Binary     | if day is neither weekend nor holiday is 1, otherwise is 0               |       | no             |\n",
    "| weathersit    | Feature | Categorical | 1: Clear, Few clouds, Partly cloudy, Partly cloudy                        |       | no             |\n",
    "| temp          | Feature | Continuous | Normalized temperature in Celsius. The values are derived via (t-t_min)/(t_max-t_min), t_min=-8, t_max=+39 (only in hourly scale) | °C    | no             |\n",
    "| atemp         | Feature | Continuous | Normalized feeling temperature in Celsius. The values are derived via (t-t_min)/(t_max-t_min), t_min=-16, t_max=+50 (only in hourly scale) | °C    | no             |\n",
    "| hum           | Feature | Continuous | Normalized humidity. The values are divided to 100 (max)                  |       | no             |\n",
    "| windspeed     | Feature | Continuous | Normalized wind speed. The values are divided to 67 (max)                 |       | no             |\n",
    "| casual        | Other   | Integer    | count of casual users                                                     |       | no             |\n",
    "| registered    | Other   | Integer    | count of registered users                                                 |       | no             |\n",
    "| cnt           | Target  | Integer    | count of total rental bikes including both casual and registered          |       | no             |"
   ]
  },
  {
   "cell_type": "markdown",
   "metadata": {},
   "source": [
    "### 1. 导入必要的库\n",
    "\n",
    "首先，我们导入了用于数据处理、可视化和模型训练的常用库。这些库包括：\n",
    "- `numpy` 和 `pandas` 用于数据处理。\n",
    "- `matplotlib.pyplot` 用于数据可视化。\n",
    "- `sklearn` 中的 `train_test_split` 用于数据集划分，`mean_squared_error` 和 `r2_score` 用于模型评估，`StandardScaler` 用于数据标准化。\n",
    "- `torch` 用于构建和训练神经网络模型。\n",
    "- `pygwalker` 用于数据探索和可视化。"
   ]
  },
  {
   "cell_type": "code",
   "execution_count": null,
   "metadata": {},
   "outputs": [
    {
     "name": "stderr",
     "output_type": "stream",
     "text": [
      "/Users/hongshuo/Library/Python/3.9/lib/python/site-packages/urllib3/__init__.py:35: NotOpenSSLWarning: urllib3 v2 only supports OpenSSL 1.1.1+, currently the 'ssl' module is compiled with 'LibreSSL 2.8.3'. See: https://github.com/urllib3/urllib3/issues/3020\n",
      "  warnings.warn(\n"
     ]
    },
    {
     "name": "stdout",
     "output_type": "stream",
     "text": [
      "2.6.0\n",
      "mps\n"
     ]
    }
   ],
   "source": [
    "import numpy as np\n",
    "import pandas as pd\n",
    "from sklearn.model_selection import train_test_split\n",
    "from sklearn.metrics import mean_squared_error,r2_score\n",
    "from sklearn.preprocessing import StandardScaler\n",
    "import torch\n",
    "from torch import nn\n",
    "import pygwalker\n",
    "\n",
    "device = torch.device('cuda' if torch.cuda.is_available() \n",
    "                      else 'mps' if torch.mps.is_available() \n",
    "                      else 'cpu')\n",
    "\n",
    "print(torch.__version__)\n",
    "print(device)"
   ]
  },
  {
   "cell_type": "markdown",
   "metadata": {},
   "source": [
    "### 2. 加载和查看数据\n",
    "\n",
    "我们加载了自行车租赁数据集，并查看了前几行数据。数据集包含多个特征，如季节、年份、月份、天气情况等，以及目标变量 `cnt`（租赁数量）。我们分离了特征和目标变量，并查看了它们的前几行。"
   ]
  },
  {
   "cell_type": "code",
   "execution_count": 10,
   "metadata": {},
   "outputs": [
    {
     "data": {
      "text/plain": [
       "(   season  yr  mnth  hr  holiday  weekday  workingday  weathersit  temp  \\\n",
       " 0       1   0     1   0        0        6           0           1  0.24   \n",
       " 1       1   0     1   1        0        6           0           1  0.22   \n",
       " 2       1   0     1   2        0        6           0           1  0.22   \n",
       " 3       1   0     1   3        0        6           0           1  0.24   \n",
       " 4       1   0     1   4        0        6           0           1  0.24   \n",
       " \n",
       "     atemp   hum  windspeed  \n",
       " 0  0.2879  0.81        0.0  \n",
       " 1  0.2727  0.80        0.0  \n",
       " 2  0.2727  0.80        0.0  \n",
       " 3  0.2879  0.75        0.0  \n",
       " 4  0.2879  0.75        0.0  ,\n",
       " 0    16\n",
       " 1    40\n",
       " 2    32\n",
       " 3    13\n",
       " 4     1\n",
       " Name: cnt, dtype: int64)"
      ]
     },
     "execution_count": 10,
     "metadata": {},
     "output_type": "execute_result"
    }
   ],
   "source": [
    "data = pd.read_csv('data/hour.csv')\n",
    "X = data.drop(['instant','dteday','casual','registered','cnt'],axis=1)\n",
    "y = data['cnt']\n",
    "X.head(), y.head()"
   ]
  },
  {
   "cell_type": "markdown",
   "metadata": {},
   "source": [
    "### 3. 数据探索和可视化\n",
    "\n",
    "使用 `pygwalker` 进行数据探索和可视化。`pygwalker` 是一个交互式的数据探索工具，可以帮助我们更好地理解数据的分布和关系。"
   ]
  },
  {
   "cell_type": "code",
   "execution_count": 3,
   "metadata": {},
   "outputs": [
    {
     "data": {
      "application/vnd.jupyter.widget-view+json": {
       "model_id": "092a8355a0e24c7e9d73d2a2bace7962",
       "version_major": 2,
       "version_minor": 0
      },
      "text/plain": [
       "Box(children=(HTML(value='\\n<div id=\"ifr-pyg-00062e6a73200f8784urg5GWkeAFJdQH\" style=\"height: auto\">\\n    <hea…"
      ]
     },
     "metadata": {},
     "output_type": "display_data"
    },
    {
     "data": {
      "text/html": [
       "<script>\n",
       "    window.addEventListener(\"message\", function(event) {\n",
       "        const backgroundMap = {\n",
       "            \"dark\": \"hsl(240 10% 3.9%)\",\n",
       "            \"light\": \"hsl(0 0 100%)\",\n",
       "        };\n",
       "        const colorMap = {\n",
       "            \"dark\": \"hsl(0 0% 98%)\",\n",
       "            \"light\": \"hsl(240 10% 3.9%)\",\n",
       "        };\n",
       "        if (event.data.action === \"changeAppearance\" && event.data.gid === \"00062e6a73200f8784urg5GWkeAFJdQH\") {\n",
       "            var iframe = document.getElementById(\"gwalker-00062e6a73200f8784urg5GWkeAFJdQH\");\n",
       "            iframe.style.background  = backgroundMap[event.data.appearance];\n",
       "            iframe.style.color = colorMap[event.data.appearance];\n",
       "        }\n",
       "    });\n",
       "</script>"
      ],
      "text/plain": [
       "<IPython.core.display.HTML object>"
      ]
     },
     "metadata": {},
     "output_type": "display_data"
    },
    {
     "data": {
      "text/html": [],
      "text/plain": [
       "<IPython.core.display.HTML object>"
      ]
     },
     "metadata": {},
     "output_type": "display_data"
    },
    {
     "data": {
      "text/plain": [
       "<pygwalker.api.pygwalker.PygWalker at 0x1054b3190>"
      ]
     },
     "execution_count": 3,
     "metadata": {},
     "output_type": "execute_result"
    }
   ],
   "source": [
    "pygwalker.walk(data)"
   ]
  },
  {
   "cell_type": "markdown",
   "metadata": {},
   "source": [
    "### 4. 数据标准化\n",
    "\n",
    "为了确保模型训练的稳定性，我们对特征和目标变量进行了标准化处理。标准化将数据转换为均值为0，标准差为1的分布。"
   ]
  },
  {
   "cell_type": "code",
   "execution_count": 11,
   "metadata": {},
   "outputs": [
    {
     "data": {
      "text/plain": [
       "(array([[-1.3566343 , -1.0051343 , -1.61043792, -1.67000398, -0.1721122 ,\n",
       "          1.49389084, -1.46689994, -0.66519285, -1.33464759, -1.0932806 ,\n",
       "          0.9473725 , -1.55388851],\n",
       "        [-1.3566343 , -1.0051343 , -1.61043792, -1.52537422, -0.1721122 ,\n",
       "          1.49389084, -1.46689994, -0.66519285, -1.4385164 , -1.18173227,\n",
       "          0.89553869, -1.55388851],\n",
       "        [-1.3566343 , -1.0051343 , -1.61043792, -1.38074446, -0.1721122 ,\n",
       "          1.49389084, -1.46689994, -0.66519285, -1.4385164 , -1.18173227,\n",
       "          0.89553869, -1.55388851]]),\n",
       " array([[-0.95633924],\n",
       "        [-0.82402209],\n",
       "        [-0.8681278 ]]))"
      ]
     },
     "execution_count": 11,
     "metadata": {},
     "output_type": "execute_result"
    }
   ],
   "source": [
    "scaler = StandardScaler()\n",
    "# 对数据进行标准化\n",
    "X = scaler.fit_transform(X)\n",
    "y = scaler.fit_transform(pd.DataFrame(y))\n",
    "X[:3],y[:3]"
   ]
  },
  {
   "cell_type": "markdown",
   "metadata": {},
   "source": [
    "### 5. 数据集划分\n",
    "\n",
    "我们将数据集划分为训练集和测试集，测试集占15%。这样可以确保模型在未见过的数据上进行评估。"
   ]
  },
  {
   "cell_type": "code",
   "execution_count": 12,
   "metadata": {},
   "outputs": [
    {
     "data": {
      "text/plain": [
       "((14772, 12), (2607, 12), (14772, 1), (2607, 1))"
      ]
     },
     "execution_count": 12,
     "metadata": {},
     "output_type": "execute_result"
    }
   ],
   "source": [
    "X_train,X_test,y_train,y_test = train_test_split(X,y,test_size=0.15)\n",
    "X_train.shape,X_test.shape,y_train.shape,y_test.shape"
   ]
  },
  {
   "cell_type": "markdown",
   "metadata": {},
   "source": [
    "### 6. 定义神经网络模型\n",
    "\n",
    "我们定义了一个简单的全连接神经网络模型 `BikeRent`，包含三个全连接层和 ReLU 激活函数。模型的结构如下：\n",
    "- 输入层：11个特征\n",
    "- 隐藏层1：20个神经元\n",
    "- 隐藏层2：10个神经元\n",
    "- 输出层：1个神经元（回归任务）"
   ]
  },
  {
   "cell_type": "code",
   "execution_count": 13,
   "metadata": {},
   "outputs": [],
   "source": [
    "class BikeRent(nn.Module):\n",
    "    def __init__(self):\n",
    "        super().__init__()\n",
    "        self.fc1 = nn.Linear(12, 20)\n",
    "        self.fc2 = nn.Linear(20, 10)\n",
    "        self.fc3 = nn.Linear(10, 1)\n",
    "        self.relu = nn.ReLU()\n",
    "    \n",
    "    def forward(self, x):\n",
    "        x = self.relu(self.fc1(x))\n",
    "        x = self.relu(self.fc2(x))\n",
    "        x = self.fc3(x)\n",
    "        return x\n",
    "\n",
    "net = BikeRent().to(device)\n",
    "loss_fn = nn.MSELoss()\n",
    "optimizer = torch.optim.Adam(params=net.parameters(), lr=0.001)"
   ]
  },
  {
   "cell_type": "markdown",
   "metadata": {},
   "source": [
    "### 7. 数据转换为张量\n",
    "\n",
    "我们将 NumPy 数组转换为 PyTorch 张量，并将数据移动到指定的设备（如 GPU 或 CPU）上，以便进行模型训练。"
   ]
  },
  {
   "cell_type": "code",
   "execution_count": 14,
   "metadata": {},
   "outputs": [
    {
     "data": {
      "text/plain": [
       "torch.Size([14772, 12])"
      ]
     },
     "execution_count": 14,
     "metadata": {},
     "output_type": "execute_result"
    }
   ],
   "source": [
    "X_train = torch.from_numpy(np.array(X_train).astype(np.float32)).to(device)\n",
    "X_test = torch.from_numpy(np.array(X_test).astype(np.float32)).to(device)\n",
    "y_train = torch.from_numpy(np.array(y_train).astype(np.float32)).to(device)\n",
    "y_test = torch.from_numpy(np.array(y_test).astype(np.float32)).to(device)\n",
    "X_train.shape"
   ]
  },
  {
   "cell_type": "markdown",
   "metadata": {},
   "source": [
    "### 8. 模型训练\n",
    "\n",
    "我们进行了2000个epoch的训练。在每个epoch中，模型在训练集上进行前向传播、计算损失、反向传播和参数更新。然后，我们在测试集上评估模型的性能，并输出训练和测试的损失、MSE和R²分数。"
   ]
  },
  {
   "cell_type": "code",
   "execution_count": 15,
   "metadata": {},
   "outputs": [
    {
     "name": "stdout",
     "output_type": "stream",
     "text": [
      "Epoch:0  Train-Loss:1.0085928440093994  Test-Loss:1.0832626819610596  Train-MSE:1.0085928440093994  Test-MSE:1.0832626819610596  Train-r^2:-0.02196979522705078  Train-r^2:-0.008888483047485352\n",
      "Epoch:200  Train-Loss:0.5348677039146423  Test-Loss:0.5671183466911316  Train-MSE:0.5348677039146423  Test-MSE:0.5671182870864868  Train-r^2:0.4580383896827698  Train-r^2:0.47181862592697144\n",
      "Epoch:400  Train-Loss:0.37587541341781616  Test-Loss:0.40790462493896484  Train-MSE:0.37587541341781616  Test-MSE:0.40790456533432007  Train-r^2:0.6191393733024597  Train-r^2:0.6201010942459106\n",
      "Epoch:600  Train-Loss:0.3063720762729645  Test-Loss:0.3401021957397461  Train-MSE:0.3063720762729645  Test-MSE:0.3401021957397461  Train-r^2:0.6895645260810852  Train-r^2:0.6832484006881714\n",
      "Epoch:800  Train-Loss:0.20762963593006134  Test-Loss:0.2372168004512787  Train-MSE:0.20762963593006134  Test-MSE:0.2372168004512787  Train-r^2:0.789616584777832  Train-r^2:0.7790699005126953\n",
      "Epoch:1000  Train-Loss:0.14670425653457642  Test-Loss:0.16710937023162842  Train-MSE:0.14670425653457642  Test-MSE:0.16710937023162842  Train-r^2:0.8513500094413757  Train-r^2:0.8443639278411865\n",
      "Epoch:1200  Train-Loss:0.11257370561361313  Test-Loss:0.127688467502594  Train-MSE:0.11257369816303253  Test-MSE:0.127688467502594  Train-r^2:0.8859332203865051  Train-r^2:0.88107830286026\n",
      "Epoch:1400  Train-Loss:0.09239039570093155  Test-Loss:0.10344892740249634  Train-MSE:0.09239039570093155  Test-MSE:0.10344892740249634  Train-r^2:0.9063842296600342  Train-r^2:0.903653621673584\n",
      "Epoch:1600  Train-Loss:0.07929150760173798  Test-Loss:0.08553145825862885  Train-MSE:0.07929150760173798  Test-MSE:0.08553145825862885  Train-r^2:0.9196568727493286  Train-r^2:0.920340895652771\n",
      "Epoch:1800  Train-Loss:0.0719188004732132  Test-Loss:0.07558506727218628  Train-MSE:0.0719188004732132  Test-MSE:0.07558505982160568  Train-r^2:0.9271273612976074  Train-r^2:0.9296044111251831\n"
     ]
    }
   ],
   "source": [
    "epochs = 2000\n",
    "for epoch in range(epochs):\n",
    "    net.train()\n",
    "    y_pred_train = net(X_train)\n",
    "    loss = loss_fn(y_pred_train,y_train)\n",
    "    optimizer.zero_grad()\n",
    "    loss.backward()\n",
    "    optimizer.step()\n",
    "    net.eval()\n",
    "    with torch.inference_mode():\n",
    "        y_pred_test = net(X_test)\n",
    "        loss_test = loss_fn(y_pred_test,y_test)\n",
    "        mse_train = mean_squared_error(y_train.cpu().numpy(), y_pred_train.cpu().numpy())\n",
    "        mse_test = mean_squared_error(y_test.cpu().numpy(), y_pred_test.cpu().numpy())\n",
    "        r2_train = r2_score(y_train.cpu().numpy(), y_pred_train.cpu().numpy())\n",
    "        r2_test = r2_score(y_test.cpu().numpy(), y_pred_test.cpu().numpy())\n",
    "    if epoch%200==0:\n",
    "        print(f\"Epoch:{epoch}  Train-Loss:{loss}  Test-Loss:{loss_test}  Train-MSE:{mse_train}  Test-MSE:{mse_test}  Train-r^2:{r2_train}  Train-r^2:{r2_test}\")"
   ]
  }
 ],
 "metadata": {
  "kernelspec": {
   "display_name": "Python 3",
   "language": "python",
   "name": "python3"
  },
  "language_info": {
   "codemirror_mode": {
    "name": "ipython",
    "version": 3
   },
   "file_extension": ".py",
   "mimetype": "text/x-python",
   "name": "python",
   "nbconvert_exporter": "python",
   "pygments_lexer": "ipython3",
   "version": "3.9.6"
  }
 },
 "nbformat": 4,
 "nbformat_minor": 2
}
