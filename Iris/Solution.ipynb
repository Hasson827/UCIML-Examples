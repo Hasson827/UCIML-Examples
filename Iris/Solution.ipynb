{
 "cells": [
  {
   "cell_type": "markdown",
   "metadata": {},
   "source": [
    "# 鸢尾花\n",
    "\n",
    "`Dataset Characteristics  数据集特征:`   Tabular  表格\n",
    "\n",
    "`Subject Area  主题领域:`   Biology  生物学\n",
    "\n",
    "`Associated Tasks  相关任务:`   Classification  分类\n",
    "\n",
    "`Feature Type  特征类型:`   Real  实数\n",
    "\n",
    "`# Instances  样本数量:`   150\n",
    "\n",
    "`# Features  特征数量:`   4\n",
    "\n",
    "`Has Missing Values? 是否有缺失值？:`   No 没有"
   ]
  },
  {
   "cell_type": "markdown",
   "metadata": {},
   "source": [
    "## 变量表\n",
    "| Variable Name | Role    | Type        | Description                                          | Units | Missing Values |\n",
    "|--------------|--------|------------|--------------------------------------------------|-------|---------------|\n",
    "| sepal length | Feature | Continuous |                                                  | cm    | no            |\n",
    "| sepal width  | Feature | Continuous |                                                  | cm    | no            |\n",
    "| petal length | Feature | Continuous |                                                  | cm    | no            |\n",
    "| petal width  | Feature | Continuous |                                                  | cm    | no            |\n",
    "| class        | Target  | Categorical | class of iris plant: Iris Setosa, Iris Versicolour, or Iris Virginica |       | no            |\n"
   ]
  },
  {
   "cell_type": "markdown",
   "metadata": {},
   "source": [
    "### 1. 导入必要库并读取数据"
   ]
  },
  {
   "cell_type": "code",
   "execution_count": 1,
   "metadata": {
    "ExecuteTime": {
     "end_time": "2025-02-21T02:16:09.814602Z",
     "start_time": "2025-02-21T02:16:09.088878Z"
    }
   },
   "outputs": [],
   "source": [
    "from ucimlrepo import fetch_ucirepo \n",
    "import torch\n",
    "import numpy as np"
   ]
  },
  {
   "cell_type": "markdown",
   "metadata": {},
   "source": [
    "实际上我们可以直接用fetch_ucirepo库来获取数据，上网站自己查询id即可"
   ]
  },
  {
   "cell_type": "code",
   "execution_count": 2,
   "metadata": {
    "ExecuteTime": {
     "end_time": "2025-02-21T02:16:13.151055Z",
     "start_time": "2025-02-21T02:16:11.001565Z"
    }
   },
   "outputs": [
    {
     "data": {
      "text/plain": [
       "(array([[5.1, 3.5, 1.4, 0.2],\n",
       "        [4.9, 3. , 1.4, 0.2],\n",
       "        [4.7, 3.2, 1.3, 0.2],\n",
       "        [4.6, 3.1, 1.5, 0.2],\n",
       "        [5. , 3.6, 1.4, 0.2],\n",
       "        [5.4, 3.9, 1.7, 0.4],\n",
       "        [4.6, 3.4, 1.4, 0.3],\n",
       "        [5. , 3.4, 1.5, 0.2],\n",
       "        [4.4, 2.9, 1.4, 0.2],\n",
       "        [4.9, 3.1, 1.5, 0.1],\n",
       "        [5.4, 3.7, 1.5, 0.2],\n",
       "        [4.8, 3.4, 1.6, 0.2],\n",
       "        [4.8, 3. , 1.4, 0.1],\n",
       "        [4.3, 3. , 1.1, 0.1],\n",
       "        [5.8, 4. , 1.2, 0.2],\n",
       "        [5.7, 4.4, 1.5, 0.4],\n",
       "        [5.4, 3.9, 1.3, 0.4],\n",
       "        [5.1, 3.5, 1.4, 0.3],\n",
       "        [5.7, 3.8, 1.7, 0.3],\n",
       "        [5.1, 3.8, 1.5, 0.3],\n",
       "        [5.4, 3.4, 1.7, 0.2],\n",
       "        [5.1, 3.7, 1.5, 0.4],\n",
       "        [4.6, 3.6, 1. , 0.2],\n",
       "        [5.1, 3.3, 1.7, 0.5],\n",
       "        [4.8, 3.4, 1.9, 0.2],\n",
       "        [5. , 3. , 1.6, 0.2],\n",
       "        [5. , 3.4, 1.6, 0.4],\n",
       "        [5.2, 3.5, 1.5, 0.2],\n",
       "        [5.2, 3.4, 1.4, 0.2],\n",
       "        [4.7, 3.2, 1.6, 0.2],\n",
       "        [4.8, 3.1, 1.6, 0.2],\n",
       "        [5.4, 3.4, 1.5, 0.4],\n",
       "        [5.2, 4.1, 1.5, 0.1],\n",
       "        [5.5, 4.2, 1.4, 0.2],\n",
       "        [4.9, 3.1, 1.5, 0.1],\n",
       "        [5. , 3.2, 1.2, 0.2],\n",
       "        [5.5, 3.5, 1.3, 0.2],\n",
       "        [4.9, 3.1, 1.5, 0.1],\n",
       "        [4.4, 3. , 1.3, 0.2],\n",
       "        [5.1, 3.4, 1.5, 0.2],\n",
       "        [5. , 3.5, 1.3, 0.3],\n",
       "        [4.5, 2.3, 1.3, 0.3],\n",
       "        [4.4, 3.2, 1.3, 0.2],\n",
       "        [5. , 3.5, 1.6, 0.6],\n",
       "        [5.1, 3.8, 1.9, 0.4],\n",
       "        [4.8, 3. , 1.4, 0.3],\n",
       "        [5.1, 3.8, 1.6, 0.2],\n",
       "        [4.6, 3.2, 1.4, 0.2],\n",
       "        [5.3, 3.7, 1.5, 0.2],\n",
       "        [5. , 3.3, 1.4, 0.2],\n",
       "        [7. , 3.2, 4.7, 1.4],\n",
       "        [6.4, 3.2, 4.5, 1.5],\n",
       "        [6.9, 3.1, 4.9, 1.5],\n",
       "        [5.5, 2.3, 4. , 1.3],\n",
       "        [6.5, 2.8, 4.6, 1.5],\n",
       "        [5.7, 2.8, 4.5, 1.3],\n",
       "        [6.3, 3.3, 4.7, 1.6],\n",
       "        [4.9, 2.4, 3.3, 1. ],\n",
       "        [6.6, 2.9, 4.6, 1.3],\n",
       "        [5.2, 2.7, 3.9, 1.4],\n",
       "        [5. , 2. , 3.5, 1. ],\n",
       "        [5.9, 3. , 4.2, 1.5],\n",
       "        [6. , 2.2, 4. , 1. ],\n",
       "        [6.1, 2.9, 4.7, 1.4],\n",
       "        [5.6, 2.9, 3.6, 1.3],\n",
       "        [6.7, 3.1, 4.4, 1.4],\n",
       "        [5.6, 3. , 4.5, 1.5],\n",
       "        [5.8, 2.7, 4.1, 1. ],\n",
       "        [6.2, 2.2, 4.5, 1.5],\n",
       "        [5.6, 2.5, 3.9, 1.1],\n",
       "        [5.9, 3.2, 4.8, 1.8],\n",
       "        [6.1, 2.8, 4. , 1.3],\n",
       "        [6.3, 2.5, 4.9, 1.5],\n",
       "        [6.1, 2.8, 4.7, 1.2],\n",
       "        [6.4, 2.9, 4.3, 1.3],\n",
       "        [6.6, 3. , 4.4, 1.4],\n",
       "        [6.8, 2.8, 4.8, 1.4],\n",
       "        [6.7, 3. , 5. , 1.7],\n",
       "        [6. , 2.9, 4.5, 1.5],\n",
       "        [5.7, 2.6, 3.5, 1. ],\n",
       "        [5.5, 2.4, 3.8, 1.1],\n",
       "        [5.5, 2.4, 3.7, 1. ],\n",
       "        [5.8, 2.7, 3.9, 1.2],\n",
       "        [6. , 2.7, 5.1, 1.6],\n",
       "        [5.4, 3. , 4.5, 1.5],\n",
       "        [6. , 3.4, 4.5, 1.6],\n",
       "        [6.7, 3.1, 4.7, 1.5],\n",
       "        [6.3, 2.3, 4.4, 1.3],\n",
       "        [5.6, 3. , 4.1, 1.3],\n",
       "        [5.5, 2.5, 4. , 1.3],\n",
       "        [5.5, 2.6, 4.4, 1.2],\n",
       "        [6.1, 3. , 4.6, 1.4],\n",
       "        [5.8, 2.6, 4. , 1.2],\n",
       "        [5. , 2.3, 3.3, 1. ],\n",
       "        [5.6, 2.7, 4.2, 1.3],\n",
       "        [5.7, 3. , 4.2, 1.2],\n",
       "        [5.7, 2.9, 4.2, 1.3],\n",
       "        [6.2, 2.9, 4.3, 1.3],\n",
       "        [5.1, 2.5, 3. , 1.1],\n",
       "        [5.7, 2.8, 4.1, 1.3],\n",
       "        [6.3, 3.3, 6. , 2.5],\n",
       "        [5.8, 2.7, 5.1, 1.9],\n",
       "        [7.1, 3. , 5.9, 2.1],\n",
       "        [6.3, 2.9, 5.6, 1.8],\n",
       "        [6.5, 3. , 5.8, 2.2],\n",
       "        [7.6, 3. , 6.6, 2.1],\n",
       "        [4.9, 2.5, 4.5, 1.7],\n",
       "        [7.3, 2.9, 6.3, 1.8],\n",
       "        [6.7, 2.5, 5.8, 1.8],\n",
       "        [7.2, 3.6, 6.1, 2.5],\n",
       "        [6.5, 3.2, 5.1, 2. ],\n",
       "        [6.4, 2.7, 5.3, 1.9],\n",
       "        [6.8, 3. , 5.5, 2.1],\n",
       "        [5.7, 2.5, 5. , 2. ],\n",
       "        [5.8, 2.8, 5.1, 2.4],\n",
       "        [6.4, 3.2, 5.3, 2.3],\n",
       "        [6.5, 3. , 5.5, 1.8],\n",
       "        [7.7, 3.8, 6.7, 2.2],\n",
       "        [7.7, 2.6, 6.9, 2.3],\n",
       "        [6. , 2.2, 5. , 1.5],\n",
       "        [6.9, 3.2, 5.7, 2.3],\n",
       "        [5.6, 2.8, 4.9, 2. ],\n",
       "        [7.7, 2.8, 6.7, 2. ],\n",
       "        [6.3, 2.7, 4.9, 1.8],\n",
       "        [6.7, 3.3, 5.7, 2.1],\n",
       "        [7.2, 3.2, 6. , 1.8],\n",
       "        [6.2, 2.8, 4.8, 1.8],\n",
       "        [6.1, 3. , 4.9, 1.8],\n",
       "        [6.4, 2.8, 5.6, 2.1],\n",
       "        [7.2, 3. , 5.8, 1.6],\n",
       "        [7.4, 2.8, 6.1, 1.9],\n",
       "        [7.9, 3.8, 6.4, 2. ],\n",
       "        [6.4, 2.8, 5.6, 2.2],\n",
       "        [6.3, 2.8, 5.1, 1.5],\n",
       "        [6.1, 2.6, 5.6, 1.4],\n",
       "        [7.7, 3. , 6.1, 2.3],\n",
       "        [6.3, 3.4, 5.6, 2.4],\n",
       "        [6.4, 3.1, 5.5, 1.8],\n",
       "        [6. , 3. , 4.8, 1.8],\n",
       "        [6.9, 3.1, 5.4, 2.1],\n",
       "        [6.7, 3.1, 5.6, 2.4],\n",
       "        [6.9, 3.1, 5.1, 2.3],\n",
       "        [5.8, 2.7, 5.1, 1.9],\n",
       "        [6.8, 3.2, 5.9, 2.3],\n",
       "        [6.7, 3.3, 5.7, 2.5],\n",
       "        [6.7, 3. , 5.2, 2.3],\n",
       "        [6.3, 2.5, 5. , 1.9],\n",
       "        [6.5, 3. , 5.2, 2. ],\n",
       "        [6.2, 3.4, 5.4, 2.3],\n",
       "        [5.9, 3. , 5.1, 1.8]]),\n",
       " array(['Iris-setosa', 'Iris-setosa', 'Iris-setosa', 'Iris-setosa',\n",
       "        'Iris-setosa', 'Iris-setosa', 'Iris-setosa', 'Iris-setosa',\n",
       "        'Iris-setosa', 'Iris-setosa', 'Iris-setosa', 'Iris-setosa',\n",
       "        'Iris-setosa', 'Iris-setosa', 'Iris-setosa', 'Iris-setosa',\n",
       "        'Iris-setosa', 'Iris-setosa', 'Iris-setosa', 'Iris-setosa',\n",
       "        'Iris-setosa', 'Iris-setosa', 'Iris-setosa', 'Iris-setosa',\n",
       "        'Iris-setosa', 'Iris-setosa', 'Iris-setosa', 'Iris-setosa',\n",
       "        'Iris-setosa', 'Iris-setosa', 'Iris-setosa', 'Iris-setosa',\n",
       "        'Iris-setosa', 'Iris-setosa', 'Iris-setosa', 'Iris-setosa',\n",
       "        'Iris-setosa', 'Iris-setosa', 'Iris-setosa', 'Iris-setosa',\n",
       "        'Iris-setosa', 'Iris-setosa', 'Iris-setosa', 'Iris-setosa',\n",
       "        'Iris-setosa', 'Iris-setosa', 'Iris-setosa', 'Iris-setosa',\n",
       "        'Iris-setosa', 'Iris-setosa', 'Iris-versicolor', 'Iris-versicolor',\n",
       "        'Iris-versicolor', 'Iris-versicolor', 'Iris-versicolor',\n",
       "        'Iris-versicolor', 'Iris-versicolor', 'Iris-versicolor',\n",
       "        'Iris-versicolor', 'Iris-versicolor', 'Iris-versicolor',\n",
       "        'Iris-versicolor', 'Iris-versicolor', 'Iris-versicolor',\n",
       "        'Iris-versicolor', 'Iris-versicolor', 'Iris-versicolor',\n",
       "        'Iris-versicolor', 'Iris-versicolor', 'Iris-versicolor',\n",
       "        'Iris-versicolor', 'Iris-versicolor', 'Iris-versicolor',\n",
       "        'Iris-versicolor', 'Iris-versicolor', 'Iris-versicolor',\n",
       "        'Iris-versicolor', 'Iris-versicolor', 'Iris-versicolor',\n",
       "        'Iris-versicolor', 'Iris-versicolor', 'Iris-versicolor',\n",
       "        'Iris-versicolor', 'Iris-versicolor', 'Iris-versicolor',\n",
       "        'Iris-versicolor', 'Iris-versicolor', 'Iris-versicolor',\n",
       "        'Iris-versicolor', 'Iris-versicolor', 'Iris-versicolor',\n",
       "        'Iris-versicolor', 'Iris-versicolor', 'Iris-versicolor',\n",
       "        'Iris-versicolor', 'Iris-versicolor', 'Iris-versicolor',\n",
       "        'Iris-versicolor', 'Iris-versicolor', 'Iris-versicolor',\n",
       "        'Iris-virginica', 'Iris-virginica', 'Iris-virginica',\n",
       "        'Iris-virginica', 'Iris-virginica', 'Iris-virginica',\n",
       "        'Iris-virginica', 'Iris-virginica', 'Iris-virginica',\n",
       "        'Iris-virginica', 'Iris-virginica', 'Iris-virginica',\n",
       "        'Iris-virginica', 'Iris-virginica', 'Iris-virginica',\n",
       "        'Iris-virginica', 'Iris-virginica', 'Iris-virginica',\n",
       "        'Iris-virginica', 'Iris-virginica', 'Iris-virginica',\n",
       "        'Iris-virginica', 'Iris-virginica', 'Iris-virginica',\n",
       "        'Iris-virginica', 'Iris-virginica', 'Iris-virginica',\n",
       "        'Iris-virginica', 'Iris-virginica', 'Iris-virginica',\n",
       "        'Iris-virginica', 'Iris-virginica', 'Iris-virginica',\n",
       "        'Iris-virginica', 'Iris-virginica', 'Iris-virginica',\n",
       "        'Iris-virginica', 'Iris-virginica', 'Iris-virginica',\n",
       "        'Iris-virginica', 'Iris-virginica', 'Iris-virginica',\n",
       "        'Iris-virginica', 'Iris-virginica', 'Iris-virginica',\n",
       "        'Iris-virginica', 'Iris-virginica', 'Iris-virginica',\n",
       "        'Iris-virginica', 'Iris-virginica'], dtype=object))"
      ]
     },
     "execution_count": 2,
     "metadata": {},
     "output_type": "execute_result"
    }
   ],
   "source": [
    "# fetch dataset \n",
    "iris = fetch_ucirepo(id=53) \n",
    "\n",
    "# data (as pandas dataframes) \n",
    "X = iris.data.features \n",
    "y = iris.data.targets \n",
    "\n",
    "X = np.array(X)\n",
    "y = np.array(y)\n",
    "y = y.reshape(-1)\n",
    "X,y"
   ]
  },
  {
   "cell_type": "markdown",
   "metadata": {},
   "source": [
    "### 2. 将数据转化为张量"
   ]
  },
  {
   "cell_type": "code",
   "execution_count": 3,
   "metadata": {
    "ExecuteTime": {
     "end_time": "2025-02-21T02:16:16.216820Z",
     "start_time": "2025-02-21T02:16:16.212655Z"
    }
   },
   "outputs": [],
   "source": [
    "for i in range(y.shape[0]):\n",
    "    if y[i] == 'Iris-setosa':\n",
    "        y[i] = 0\n",
    "    elif y[i] == 'Iris-versicolor':\n",
    "        y[i] = 1\n",
    "    else:\n",
    "        y[i] = 2\n",
    "\n",
    "# 将 y 转换为整数类型\n",
    "y = y.astype(np.int64)\n",
    "\n",
    "# 将 y 转换为 PyTorch 张量\n",
    "X = torch.tensor(X,dtype=torch.float32)\n",
    "y = torch.tensor(y, dtype=torch.long)  # 使用 long 类型表示整数标签"
   ]
  },
  {
   "cell_type": "markdown",
   "metadata": {},
   "source": [
    "### 3. 指定device,lr,loss_fn,optimizer和网络模型"
   ]
  },
  {
   "cell_type": "code",
   "execution_count": 4,
   "metadata": {
    "ExecuteTime": {
     "end_time": "2025-02-21T02:16:18.810916Z",
     "start_time": "2025-02-21T02:16:18.390808Z"
    }
   },
   "outputs": [],
   "source": [
    "device = torch.device('cuda' if torch.cuda.is_available() \n",
    "                      else 'mps' if torch.mps.is_available()\n",
    "                      else 'cpu')\n",
    "loss_fn = torch.nn.CrossEntropyLoss()\n",
    "\n",
    "class Classifier(torch.nn.Module):\n",
    "    def __init__(self):\n",
    "        super(Classifier, self).__init__()\n",
    "        self.fc1 = torch.nn.Linear(4, 8)\n",
    "        self.fc2 = torch.nn.Linear(8, 3)\n",
    "    def forward(self, x):\n",
    "        x = torch.relu(self.fc1(x))\n",
    "        x = self.fc2(x)\n",
    "        return x\n",
    "model = Classifier().to(device)\n",
    "\n",
    "optimizer = torch.optim.Adam(model.parameters(),lr=0.1)"
   ]
  },
  {
   "cell_type": "markdown",
   "metadata": {},
   "source": [
    "### 4. 训练模型"
   ]
  },
  {
   "cell_type": "code",
   "execution_count": 5,
   "metadata": {
    "ExecuteTime": {
     "end_time": "2025-02-21T02:16:21.188522Z",
     "start_time": "2025-02-21T02:16:20.091330Z"
    }
   },
   "outputs": [
    {
     "name": "stdout",
     "output_type": "stream",
     "text": [
      "Epoch 0 Loss 2.6103146076202393 Acc 0.3333333432674408\n",
      "Epoch 100 Loss 0.05720846727490425 Acc 0.9800000190734863\n",
      "Epoch 200 Loss 0.04813739284873009 Acc 0.9800000190734863\n",
      "Epoch 300 Loss 0.042766258120536804 Acc 0.9866666793823242\n",
      "Epoch 400 Loss 0.04142289608716965 Acc 0.9866666793823242\n",
      "Epoch 500 Loss 0.04075513035058975 Acc 0.9866666793823242\n",
      "Epoch 600 Loss 0.04043133929371834 Acc 0.9866666793823242\n",
      "Epoch 700 Loss 0.040224336087703705 Acc 0.9866666793823242\n",
      "Epoch 800 Loss 0.040163591504096985 Acc 0.9866666793823242\n",
      "Epoch 900 Loss 0.040442027151584625 Acc 0.9866666793823242\n"
     ]
    }
   ],
   "source": [
    "epochs = 1000\n",
    "\n",
    "for epoch in range(epochs):\n",
    "    X = X.to(device)\n",
    "    y = y.to(device)\n",
    "    model.train()\n",
    "    y_pred_logit = model(X)\n",
    "    loss = loss_fn(y_pred_logit, y)\n",
    "    y_pred_prob = torch.softmax(y_pred_logit,dim=1)\n",
    "    optimizer.zero_grad()\n",
    "    loss.backward()\n",
    "    optimizer.step()\n",
    "    accuracy = (y == torch.argmax(y_pred_prob,dim=1)).float().mean()\n",
    "    if epoch%100==0:\n",
    "        print(f'Epoch {epoch} Loss {loss.item()} Acc {accuracy}')"
   ]
  },
  {
   "cell_type": "markdown",
   "metadata": {},
   "source": [
    "最终准确率达到了98.6%"
   ]
  }
 ],
 "metadata": {
  "kernelspec": {
   "display_name": "Python 3 (ipykernel)",
   "language": "python",
   "name": "python3"
  },
  "language_info": {
   "codemirror_mode": {
    "name": "ipython",
    "version": 3
   },
   "file_extension": ".py",
   "mimetype": "text/x-python",
   "name": "python",
   "nbconvert_exporter": "python",
   "pygments_lexer": "ipython3",
   "version": "3.9.6"
  }
 },
 "nbformat": 4,
 "nbformat_minor": 4
}
