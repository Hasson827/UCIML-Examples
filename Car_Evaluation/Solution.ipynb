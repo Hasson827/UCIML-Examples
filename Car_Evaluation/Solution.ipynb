{
 "cells": [
  {
   "cell_type": "markdown",
   "metadata": {},
   "source": [
    "# 汽车评估\n",
    "Dataset Characteristics  数据集特征:\n",
    "\n",
    "`Multivariate  多元变量`\n",
    "\n",
    "Subject Area  主题领域:\n",
    "\n",
    "`Other  其他`\n",
    "\n",
    "Associated Tasks  相关任务:\n",
    "\n",
    "`Classification  分类`\n",
    "\n",
    "Feature Type  特征类型:\n",
    "\n",
    "`Categorical  分类`\n",
    "\n",
    "Number of Instances  实例数量:\n",
    "\n",
    "`1728`\n",
    "\n",
    "Number of Features  特征数量:\n",
    "\n",
    "`6`\n",
    "\n",
    "Has Missing Values?  是否有缺失值？\n",
    "\n",
    "`No  没有`"
   ]
  },
  {
   "cell_type": "markdown",
   "metadata": {},
   "source": [
    "## 变量表\n",
    "# Variables Table 变量表\n",
    "\n",
    "| Variable Name 变量名称    | Role 角色 | Type 类型    | Description 描述    | Units 单元    | Missing Values 缺失值 |\n",
    "|----------------------------|-----------|--------------|---------------------|---------------|-----------------------|\n",
    "| buying 购买    | Feature 特征    | Categorical 分类    | buying price 购买价格    |    | no 没有    |\n",
    "| maint 维护    | Feature 特征    | Categorical 分类    | price of the maintenance 维护价格    |    | no 没有    |\n",
    "| doors 门    | Feature 特征    | Categorical 分类    | number of doors 门的数量    |    | no 没有    |\n",
    "| persons 人员    | Feature 特征    | Categorical 分类    | capacity in terms of persons to carry 容量（以人数计算） |    | no 没有    |\n",
    "| lug_boot    | Feature 特征    | Categorical 分类    | the size of luggage boot 行李箱的大小    |    | no 没有    |\n",
    "| safety 安全    | Feature 特征    | Categorical 分类    | estimated safety of the car 汽车预估安全性    |    | no 没有    |\n",
    "| class 类    | Target 目标    | Categorical 分类    | evaluation level (unacceptable, acceptable, good, very good) 评估等级（不合格，合格，良好，非常好） |    | no 没有    |"
   ]
  },
  {
   "cell_type": "markdown",
   "metadata": {},
   "source": [
    "### 1. 导入必要库并读取数据"
   ]
  },
  {
   "cell_type": "code",
   "execution_count": 1,
   "metadata": {},
   "outputs": [],
   "source": [
    "import pandas as pd\n",
    "import numpy as np\n",
    "import torch\n",
    "from torch import nn\n",
    "import random"
   ]
  },
  {
   "cell_type": "code",
   "execution_count": 2,
   "metadata": {},
   "outputs": [
    {
     "data": {
      "text/plain": [
       "(array([['vhigh', 'vhigh', '2', '2', 'small', 'med'],\n",
       "        ['vhigh', 'vhigh', '2', '2', 'small', 'high'],\n",
       "        ['vhigh', 'vhigh', '2', '2', 'med', 'low'],\n",
       "        ...,\n",
       "        ['low', 'low', '5more', 'more', 'big', 'low'],\n",
       "        ['low', 'low', '5more', 'more', 'big', 'med'],\n",
       "        ['low', 'low', '5more', 'more', 'big', 'high']], dtype=object),\n",
       " array(['unacc', 'unacc', 'unacc', ..., 'unacc', 'good', 'vgood'],\n",
       "       dtype=object))"
      ]
     },
     "execution_count": 2,
     "metadata": {},
     "output_type": "execute_result"
    }
   ],
   "source": [
    "X = pd.read_csv('data/car.data')\n",
    "X.columns = ['buying','maint','doors','persons','lug_boot','safety','class']\n",
    "y = X['class']\n",
    "X = X.drop(['class'],axis=1)\n",
    "X = np.array(X)\n",
    "y = np.array(y)\n",
    "X,y"
   ]
  },
  {
   "cell_type": "markdown",
   "metadata": {},
   "source": [
    "### 2. 进行数据处理，把分类特征转为离散变量"
   ]
  },
  {
   "cell_type": "code",
   "execution_count": 3,
   "metadata": {},
   "outputs": [
    {
     "name": "stdout",
     "output_type": "stream",
     "text": [
      "[[3 3 '2' '2' 'small' 'med']\n",
      " [3 3 '2' '2' 'small' 'high']\n",
      " [3 3 '2' '2' 'med' 'low']\n",
      " ...\n",
      " [0 0 '5more' 'more' 'big' 'low']\n",
      " [0 0 '5more' 'more' 'big' 'med']\n",
      " [0 0 '5more' 'more' 'big' 'high']]\n"
     ]
    }
   ],
   "source": [
    "# 处理buying和maint两列，把low~vhigh对应为0～3\n",
    "def preprocess_1(X,j):\n",
    "    for i in range(X.shape[0]):\n",
    "        if X[i][j] == 'low':\n",
    "            X[i][j] = 0\n",
    "        elif X[i][j] == 'med':\n",
    "            X[i][j] = 1\n",
    "        elif X[i][j] == 'high':\n",
    "            X[i][j] = 2\n",
    "        else:\n",
    "            X[i][j] = 3\n",
    "    return X\n",
    "X = preprocess_1(X,0)\n",
    "X = preprocess_1(X,1)\n",
    "print(X)"
   ]
  },
  {
   "cell_type": "code",
   "execution_count": 4,
   "metadata": {},
   "outputs": [
    {
     "name": "stdout",
     "output_type": "stream",
     "text": [
      "[[3 3 2 '2' 'small' 'med']\n",
      " [3 3 2 '2' 'small' 'high']\n",
      " [3 3 2 '2' 'med' 'low']\n",
      " ...\n",
      " [0 0 5 'more' 'big' 'low']\n",
      " [0 0 5 'more' 'big' 'med']\n",
      " [0 0 5 'more' 'big' 'high']]\n",
      "[[3 3 2 2 'small' 'med']\n",
      " [3 3 2 2 'small' 'high']\n",
      " [3 3 2 2 'med' 'low']\n",
      " ...\n",
      " [0 0 5 5 'big' 'low']\n",
      " [0 0 5 5 'big' 'med']\n",
      " [0 0 5 6 'big' 'high']]\n"
     ]
    }
   ],
   "source": [
    "# 处理doors,persons两列,把以more结尾的字符串归结为一类\n",
    "for i in range(X.shape[0]):\n",
    "    if X[i][2].endswith('more'):\n",
    "        X[i][2] = 5\n",
    "    else:\n",
    "        X[i][2] = int(X[i][2])\n",
    "print(X)\n",
    "for i in range(X.shape[0]):\n",
    "    if X[i][3].endswith('more'):\n",
    "        X[i][3] = random.choice([5,6])\n",
    "    else:\n",
    "        X[i][3] = int(X[i][3])\n",
    "print(X)"
   ]
  },
  {
   "cell_type": "code",
   "execution_count": 5,
   "metadata": {},
   "outputs": [
    {
     "name": "stdout",
     "output_type": "stream",
     "text": [
      "[[3 3 2 2 0 'med']\n",
      " [3 3 2 2 0 'high']\n",
      " [3 3 2 2 1 'low']\n",
      " ...\n",
      " [0 0 5 5 2 'low']\n",
      " [0 0 5 5 2 'med']\n",
      " [0 0 5 6 2 'high']]\n"
     ]
    }
   ],
   "source": [
    "# 处理lug_boot\n",
    "for i in range(X.shape[0]):\n",
    "    if X[i][4] == 'small':\n",
    "        X[i][4] = 0\n",
    "    elif X[i][4] == 'med':\n",
    "        X[i][4] = 1\n",
    "    else:\n",
    "        X[i][4] = 2\n",
    "print(X)"
   ]
  },
  {
   "cell_type": "code",
   "execution_count": 6,
   "metadata": {},
   "outputs": [
    {
     "name": "stdout",
     "output_type": "stream",
     "text": [
      "[[3 3 2 2 0 1]\n",
      " [3 3 2 2 0 2]\n",
      " [3 3 2 2 1 0]\n",
      " ...\n",
      " [0 0 5 5 2 0]\n",
      " [0 0 5 5 2 1]\n",
      " [0 0 5 6 2 2]]\n"
     ]
    }
   ],
   "source": [
    "# 处理safety\n",
    "for i in range(X.shape[0]):\n",
    "    if X[i][5] == 'low':\n",
    "        X[i][5] = 0\n",
    "    elif X[i][5] == 'med':\n",
    "        X[i][5] = 1\n",
    "    else:\n",
    "        X[i][5] = 2\n",
    "print(X)"
   ]
  },
  {
   "cell_type": "code",
   "execution_count": 7,
   "metadata": {},
   "outputs": [
    {
     "name": "stdout",
     "output_type": "stream",
     "text": [
      "[0 0 0 ... 0 2 3]\n"
     ]
    }
   ],
   "source": [
    "# 处理class\n",
    "for i in range(y.shape[0]):\n",
    "    if y[i] == 'unacc':\n",
    "        y[i] = 0\n",
    "    elif y[i] == 'acc':\n",
    "        y[i] = 1\n",
    "    elif y[i] == 'good':\n",
    "        y[i] = 2\n",
    "    else:\n",
    "        y[i] = 3\n",
    "print(y)"
   ]
  },
  {
   "cell_type": "markdown",
   "metadata": {},
   "source": [
    "### 3. 定义神经网络模型"
   ]
  },
  {
   "cell_type": "code",
   "execution_count": 8,
   "metadata": {},
   "outputs": [],
   "source": [
    "device = 'cuda' if torch.cuda.is_available() else 'mps' if torch.backends.mps.is_available() else 'cpu'\n",
    "\n",
    "class Classifier(nn.Module):\n",
    "    def __init__(self):\n",
    "        super(Classifier, self).__init__()\n",
    "        self.l1 = nn.Linear(6, 15)\n",
    "        self.l2 = nn.Linear(15, 4)\n",
    "        self.relu = nn.ReLU()\n",
    "\n",
    "    def forward(self, x):\n",
    "        x = self.relu(self.l1(x))\n",
    "        x = self.l2(x)\n",
    "        return x\n",
    "\n",
    "net = Classifier()\n",
    "net = net.to(device)"
   ]
  },
  {
   "cell_type": "markdown",
   "metadata": {},
   "source": [
    "### 4. 定义学习率、优化器、损失函数..."
   ]
  },
  {
   "cell_type": "code",
   "execution_count": 9,
   "metadata": {},
   "outputs": [],
   "source": [
    "loss_fn = nn.CrossEntropyLoss()\n",
    "lr = 0.01\n",
    "optimizer = torch.optim.Adam(params = net.parameters(), lr=lr)"
   ]
  },
  {
   "cell_type": "markdown",
   "metadata": {},
   "source": [
    "### 5. 建立训练循环"
   ]
  },
  {
   "cell_type": "code",
   "execution_count": 10,
   "metadata": {},
   "outputs": [],
   "source": [
    "num_epoch = 2000\n",
    "X = torch.tensor(X.astype(int),dtype=torch.float32,device=device)\n",
    "y = torch.tensor(y.astype(int),dtype=torch.float32,device=device)\n"
   ]
  },
  {
   "cell_type": "code",
   "execution_count": 11,
   "metadata": {},
   "outputs": [
    {
     "name": "stdout",
     "output_type": "stream",
     "text": [
      "Validation Accuracy: 0.2224\n",
      "Validation Accuracy: 0.8193\n",
      "Validation Accuracy: 0.8796\n",
      "Validation Accuracy: 0.9137\n",
      "Validation Accuracy: 0.9299\n",
      "Validation Accuracy: 0.9404\n",
      "Validation Accuracy: 0.9473\n",
      "Validation Accuracy: 0.9543\n",
      "Validation Accuracy: 0.9635\n",
      "Validation Accuracy: 0.9647\n",
      "Validation Accuracy: 0.9687\n",
      "Validation Accuracy: 0.9734\n",
      "Validation Accuracy: 0.9757\n",
      "Validation Accuracy: 0.9751\n",
      "Validation Accuracy: 0.9751\n",
      "Validation Accuracy: 0.9745\n",
      "Validation Accuracy: 0.9757\n",
      "Validation Accuracy: 0.9774\n",
      "Validation Accuracy: 0.9768\n",
      "Validation Accuracy: 0.9780\n"
     ]
    }
   ],
   "source": [
    "from sklearn.metrics import accuracy_score\n",
    "for epoch in range(num_epoch):\n",
    "    net.train()\n",
    "    y_pred_logit = net(X)\n",
    "    loss = loss_fn(y_pred_logit,y)\n",
    "    optimizer.zero_grad()\n",
    "    loss.backward()\n",
    "    optimizer.step()\n",
    "    net.eval()\n",
    "    with torch.inference_mode():\n",
    "        y_pred_prob = torch.softmax(y_pred_logit,dim=1)\n",
    "        y_pred_label = torch.argmax(y_pred_prob,dim=1)\n",
    "        val_accuracy = accuracy_score(y.cpu().numpy(), y_pred_label.cpu().numpy())\n",
    "    if epoch%100==0:\n",
    "        print(f'Validation Accuracy: {val_accuracy:.4f}')"
   ]
  },
  {
   "cell_type": "markdown",
   "metadata": {},
   "source": [
    "最终正确率能够达到95%以上，很好"
   ]
  }
 ],
 "metadata": {
  "kernelspec": {
   "display_name": "Python 3",
   "language": "python",
   "name": "python3"
  },
  "language_info": {
   "codemirror_mode": {
    "name": "ipython",
    "version": 3
   },
   "file_extension": ".py",
   "mimetype": "text/x-python",
   "name": "python",
   "nbconvert_exporter": "python",
   "pygments_lexer": "ipython3",
   "version": "3.9.6"
  }
 },
 "nbformat": 4,
 "nbformat_minor": 2
}
